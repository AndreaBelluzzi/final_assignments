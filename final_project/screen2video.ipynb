{
 "cells": [
  {
   "cell_type": "markdown",
   "id": "7dce744d",
   "metadata": {},
   "source": [
    "# From screenshot to video"
   ]
  },
  {
   "cell_type": "code",
   "execution_count": 1,
   "id": "4adce277",
   "metadata": {},
   "outputs": [],
   "source": [
    "import os\n",
    "import cv2\n",
    "\n",
    "#Function to load sorted screen\n",
    "\n",
    "def load_files_from_folder(path_folder):\n",
    "    files = []\n",
    "    for filename in sorted(os.listdir(path_folder), key=lambda x: int(x.split('.')[0])):\n",
    "        file_path = os.path.join(path_folder, filename)\n",
    "        if os.path.isfile(file_path):\n",
    "            files.append(file_path)\n",
    "    return files"
   ]
  },
  {
   "cell_type": "code",
   "execution_count": 9,
   "id": "ee15915f",
   "metadata": {},
   "outputs": [],
   "source": [
    "folder_path =  'C:\\\\Users\\\\andrea.belluzzi\\\\Desktop\\\\video_network\\\\frames_ani2\\\\'\n",
    "file_list = load_files_from_folder(folder_path)\n",
    "\n",
    "# Print sorted file to check if everything is fine\n",
    "for single_path in file_list:\n",
    "    #print(single_path) \n",
    "    pass"
   ]
  },
  {
   "cell_type": "code",
   "execution_count": 3,
   "id": "528447d3",
   "metadata": {},
   "outputs": [
    {
     "name": "stdout",
     "output_type": "stream",
     "text": [
      "the resolution is 3296 x 1942\n"
     ]
    }
   ],
   "source": [
    "#Check resolution of your screenshot \n",
    "\n",
    "first_image = cv2.imread(single_path)\n",
    "height, width, _ = first_image.shape\n",
    "print( f\"the resolution is {width} x {height}\")  "
   ]
  },
  {
   "cell_type": "code",
   "execution_count": 6,
   "id": "6aab06b3",
   "metadata": {},
   "outputs": [],
   "source": [
    "#Function screen to video\n",
    "\n",
    "# Give some minimal structure to docstrings!\n",
    "def png_to_video(png_folder, output_path, fps=30, downscaling_resolution=1):\n",
    "    \"\"\" Create video from screenshopt\n",
    "    \n",
    "    Parameters:  LP e.g.\n",
    "        png_folder = where are your screenshot\n",
    "    \n",
    "        output_path = where to save the video\n",
    "        \n",
    "        fps = frames per second, 30 or 60 are fine\n",
    "        \n",
    "        downscaling_resolution = if the original resolution of your screenshot is super high, you can downscale it to make\n",
    "    the video lighter and the whole process faster (accept any number bigger than 1, also float)\n",
    "    3840x2160 downscaling factor = 2, final resolutin = 1920x1080\n",
    "    \n",
    "    \"\"\"\n",
    "    # Load sorted png files\n",
    "    png_files = load_files_from_folder(png_folder)\n",
    "\n",
    "    # load first screen to know the resolution\n",
    "    first_image_path = os.path.join(png_folder, png_files[0])\n",
    "    first_image = cv2.imread(first_image_path)\n",
    "    height, width, _ = first_image.shape\n",
    "    \n",
    "    #Codec for the video\n",
    "    fourcc = cv2.VideoWriter_fourcc(*'mp4v')\n",
    "    #Settings video\n",
    "    video = cv2.VideoWriter(output_path, fourcc, fps, ( int(width/downscaling_resolution), int(height/downscaling_resolution)))\n",
    "\n",
    "    # From static frame to the magic of cinema\n",
    "    for path_single_png in png_files:\n",
    "\n",
    "        image = cv2.imread(path_single_png)\n",
    "        image_resized = cv2.resize(image, (int(width/downscaling_resolution), int(height/downscaling_resolution) ))\n",
    "        video.write(image_resized)\n",
    "\n",
    "    # Close the video\n",
    "    video.release()\n",
    "\n",
    "    print(f'Video creato: {output_path}')"
   ]
  },
  {
   "cell_type": "code",
   "execution_count": 7,
   "id": "2b7965c5",
   "metadata": {},
   "outputs": [
    {
     "name": "stdout",
     "output_type": "stream",
     "text": [
      "Video creato: C:\\Users\\andrea.belluzzi\\Desktop\\video_network\\video\\animation1ascasfa_60fps.mp4\n"
     ]
    }
   ],
   "source": [
    "# Create Video\n",
    "png_folder = 'C:\\\\Users\\\\andrea.belluzzi\\\\Desktop\\\\video_network\\\\frames_ani1\\\\'\n",
    "output_path = 'C:\\\\Users\\\\andrea.belluzzi\\\\Desktop\\\\video_network\\\\video\\\\animation1_60fps.mp4'\n",
    "fps = 60\n",
    "\n",
    "png_to_video(png_folder, output_path, fps)"
   ]
  },
  {
   "cell_type": "code",
   "execution_count": null,
   "id": "caa6429c",
   "metadata": {},
   "outputs": [],
   "source": []
  }
 ],
 "metadata": {
  "kernelspec": {
   "display_name": "Python [conda env:course_env]",
   "language": "python",
   "name": "conda-env-course_env-py"
  },
  "language_info": {
   "codemirror_mode": {
    "name": "ipython",
    "version": 3
   },
   "file_extension": ".py",
   "mimetype": "text/x-python",
   "name": "python",
   "nbconvert_exporter": "python",
   "pygments_lexer": "ipython3",
   "version": "3.9.16"
  }
 },
 "nbformat": 4,
 "nbformat_minor": 5
}
