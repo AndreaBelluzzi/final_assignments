{
 "cells": [
  {
   "cell_type": "markdown",
   "id": "f54dd50c",
   "metadata": {
    "id": "f54dd50c"
   },
   "source": [
    "# Assignments - module 0\n",
    "\n",
    "[![Open In Colab](https://colab.research.google.com/assets/colab-badge.svg)](https://colab.research.google.com/github/vigji/python-cimec/blob/main/assignments/Assignments_0.ipynb)\n",
    "\n",
    "This notebook contains the assignments to complete for credits for the first module.\n",
    "\n",
    "**Submission**: Once you're happy with your solutions, send it to me in any form (email the file, share it through Colab/Google Drive, send me a link to your GitHub repo...).\n",
    "\n",
    "**Deadline**: 15th of July 2023\n",
    "\n",
    "**Evaluation**: There is no grade, but I will pass assignments that showcase a reasonable degree of understanding og the covered topics. Do your best, and feel free to ask for help if you are struggling!\n",
    "\n",
    "(Also, try to keep in mind not only the goal of the exercise, but also all the coding best practices we have been considering in the lectures.)"
   ]
  },
  {
   "cell_type": "markdown",
   "id": "76b6380f",
   "metadata": {
    "id": "76b6380f"
   },
   "source": [
    "## 0. The Library of Babel"
   ]
  },
  {
   "cell_type": "markdown",
   "id": "a6561253",
   "metadata": {
    "id": "a6561253"
   },
   "source": [
    "In [The Library of Babel](https://sites.evergreen.edu/politicalshakespeares/wp-content/uploads/sites/226/2015/12/Borges-The-Library-of-Babel.pdf), the Argentinian writer Jorge Louis Borges imagines a universe where people are born and live inside a giant library that contains an astronomical number of books. Each book:\n",
    "\n",
    "    ...contains four hundred ten pages; each page, forty lines; each line, approximately eighty black letters.   [...] all books, however different from one another they might be, consist of identical elements: the space, the period, the comma, and the twenty-two letters of the alphabet.\n",
    "\n",
    "\n",
    "Books in this library consist in all possible combinations of such symbols; as a consequence, the library contains:\n",
    "\n",
    "    ... All-the detailed history of the future, the autobiographies of the archangels, the faithful catalog of the Library, thousands and thousands of false catalogs, the proof of the falsity of those false catalogs, a proof of the falsity of the true catalog, the gnostic gospel of Basilides, the commentary upon that gospel, the commentary on the commentary on that gospel, the true story of your death, the translation of every book into every language, the interpolations of every book into all books, the treatise Bede could have written (but did not) on the mythology of the Saxon people, the lost books of Tacitus.\n",
    "\n"
   ]
  },
  {
   "cell_type": "markdown",
   "id": "11cf38cd",
   "metadata": {
    "id": "11cf38cd"
   },
   "source": [
    "### Exercise 0.0\n",
    "In the library rests an enigmatic quantity: the number of books it contains.\n",
    "\n",
    "Let's calculate the number of books in the library! The formula is simple, but think beforehand:\n",
    "- Can we compute this number? Can you estimate a lower boundary for the space that the number would need in memory?\n",
    "- Can we represent the result with a float?\n",
    "- Can we represent it with an int?\n",
    "\n",
    "Try to calculate the number and assign it to a variable. Read its size with the sys.getsizeof() function. Was your estimate reasonable?\n",
    "\n",
    "(idle bonus question: do you think that your birth date, expressed as the sequence DDMMYY (day, month, shortened year), can be found somewhere in that sequence of numbers? If you're curious, try to find it!)"
   ]
  },
  {
   "cell_type": "code",
   "execution_count": null,
   "id": "6212085e",
   "metadata": {
    "id": "6212085e"
   },
   "outputs": [],
   "source": [
    "import sys\n",
    "\n",
    "# LP: annoying as we're all italians, but I would always recommend sticking to English for code!\n",
    "n_pages = 410   # in un libro\n",
    "n_lines = 40    # in una pagina\n",
    "n_letters = 80  # in una riga\n",
    "\n",
    "n_possible_elements = 25 #22 letters + comma,period,space\n",
    "n_characters_each_book = n_pages * n_lines * n_letters\n"
   ]
  },
  {
   "cell_type": "code",
   "execution_count": null,
   "id": "xdJ5O9uXf1s0",
   "metadata": {
    "id": "xdJ5O9uXf1s0"
   },
   "outputs": [],
   "source": [
    "total_combinations = n_possible_elements**n_characters_each_book   #numero di possibili elementi (25) elevato per il numero di caratteri in ogni libro\n",
    "#total_combinations #output troppo grande per essere printato (tetto massimo di 4300 digits settato come default)"
   ]
  },
  {
   "cell_type": "code",
   "execution_count": null,
   "id": "VFw4mkXqSWL2",
   "metadata": {
    "colab": {
     "base_uri": "https://localhost:8080/"
    },
    "id": "VFw4mkXqSWL2",
    "outputId": "1c29149c-b6d7-4875-8af3-75f68a499e91"
   },
   "outputs": [],
   "source": [
    "power_elevation = list(range(0, 600, 30)) #lista che va da 30 a 600\n",
    "\n",
    "for increase in power_elevation:\n",
    "  number = 2**increase\n",
    "  size = sys.getsizeof(number)\n",
    "  print( f\"dato 2**{increase}, la dimensione è di: {size} bytes\")\n",
    "\n",
    "#Ogni aumento di 30 nell'esponente, la dimensione di number cresce di 4 bytes\n"
   ]
  },
  {
   "cell_type": "code",
   "execution_count": null,
   "id": "iCPJkYNZT-wC",
   "metadata": {
    "colab": {
     "base_uri": "https://localhost:8080/"
    },
    "id": "iCPJkYNZT-wC",
    "outputId": "52d7a369-816a-4081-cd1f-90ebb3d19c8d"
   },
   "outputs": [],
   "source": [
    "# LP: nice estimate!\n",
    "power_ratio = n_characters_each_book/30\n",
    "minimum_size = power_ratio * 4\n",
    "\n",
    "print( f\"la minima dimensione in bites è: {minimum_size} \\nsenza tener conto della grandezza del numero che stiamo andando ad elevare: {n_possible_elements} \")"
   ]
  },
  {
   "cell_type": "code",
   "execution_count": null,
   "id": "pDBBi6rmAeqx",
   "metadata": {
    "colab": {
     "base_uri": "https://localhost:8080/"
    },
    "id": "pDBBi6rmAeqx",
    "outputId": "e2961e07-8bbd-4e97-d63f-c725f2c16743"
   },
   "outputs": [],
   "source": [
    "#Size of huuuuge number of total combination\n",
    "\n",
    "sys.getsizeof(total_combinations)"
   ]
  },
  {
   "cell_type": "code",
   "execution_count": null,
   "id": "XI8jVOQqPgkV",
   "metadata": {
    "id": "XI8jVOQqPgkV"
   },
   "outputs": [],
   "source": [
    "#float(total_combinations)\n",
    "\n",
    "#integer troppo grande per essere rappresentato come float"
   ]
  },
  {
   "cell_type": "markdown",
   "id": "be4f1fbe",
   "metadata": {
    "id": "be4f1fbe"
   },
   "source": [
    "### Exercise 0.1\n",
    "\n",
    "Make a generator to create different books from the library every time it runs - ideally, in a randomic way. Then, make it a function!"
   ]
  },
  {
   "cell_type": "code",
   "execution_count": null,
   "id": "q6DhPEMyYOk_",
   "metadata": {
    "id": "q6DhPEMyYOk_"
   },
   "outputs": [],
   "source": [
    "import random\n",
    "\n",
    "alphabet = [ 'a' ,'b', 'c', 'd', 'e', 'f', 'g', 'h', 'i', 'l', 'm', 'n', 'o', 'p', 'q', 'r', 's', 't', 'u', 'v', 'z' , 'j' , ' ' , ',' , '.'] #25 elementi del mio alfabeto\n",
    "myBook = \"\"  # Stringa di output\n",
    "\n",
    "while len(myBook) <= n_characters_each_book:    #se myBook ha raggiunto il numero di caratteri che ci devono essere in un libro, stoppa il while\n",
    "    letters = [random.choice(alphabet) for _ in range(n_letters)] #genera una lista di 80 elementi randomici presi da alphabet\n",
    "    myBook += ''.join(letters) #concatena il tutto\n",
    "    myBook += '\\n'  # Vai a capo, e sappiamo che sarà all'80esima lettera per via di come è scritta la list comprehension di letters (for loop fino a n_letters = 80)\n",
    "\n",
    "#print(myBook)\n"
   ]
  },
  {
   "cell_type": "code",
   "execution_count": null,
   "id": "63JrqfIuATSq",
   "metadata": {
    "id": "63JrqfIuATSq"
   },
   "outputs": [],
   "source": [
    "#Funzione\n",
    "\n",
    "alphabet = [ 'a' ,'b', 'c', 'd', 'e', 'f', 'g', 'h', 'i', 'l', 'm', 'n', 'o', 'p', 'q', 'r', 's', 't', 'u', 'v', 'z' , 'j' , ' ' , ',' , '.']\n",
    "\n",
    "def book_generator(alphabet,n_characters_book,n_letters_row):\n",
    "  \"\"\" Generate a book\n",
    "  alphabet = che caratteri ci devono essere nel mio alfabero\n",
    "  n_characters_book = quanti caratteri ci saranno in totale nel libro\n",
    "  n_letters_row = quanti caratteri per ogni riga\n",
    "  \"\"\"\n",
    "  aBook = \"\"  # Stringa di output\n",
    "  while len(aBook) <= n_characters_book:\n",
    "      letters = [random.choice(alphabet) for _ in range(n_letters_row)]\n",
    "      aBook += ''.join(letters)\n",
    "      aBook += '\\n'\n",
    "  return aBook"
   ]
  },
  {
   "cell_type": "code",
   "execution_count": null,
   "id": "JpjQzy1MEZ-4",
   "metadata": {
    "colab": {
     "base_uri": "https://localhost:8080/"
    },
    "id": "JpjQzy1MEZ-4",
    "outputId": "5b1ec732-dd24-4f2d-aa37-d32b95b13e5f"
   },
   "outputs": [],
   "source": [
    "#Create a very short book of 25 characters with 5 characters per row\n",
    "# LP: Excellent small case testing! A small thing but you're the first I see doing it :)\n",
    "short_book = book_generator(alphabet,50,5)\n",
    "print(short_book)"
   ]
  },
  {
   "cell_type": "markdown",
   "id": "a2c3a399",
   "metadata": {
    "id": "a2c3a399"
   },
   "source": [
    "### Exercise 0.2\n",
    "\n",
    "Find in a given book all words / sequences of words that have a meaning in English. How many do you expect to find based on their length?"
   ]
  },
  {
   "cell_type": "code",
   "execution_count": null,
   "id": "462f88a1",
   "metadata": {
    "id": "462f88a1"
   },
   "outputs": [],
   "source": [
    "# To get a list of english words, you are given the following function:\n",
    "\n",
    "import requests\n",
    "\n",
    "def get_english_words_list():\n",
    "    \"\"\"Download a reasonably complete English dictionary.\"\"\"\n",
    "    resp = requests.get(\"https://www.mit.edu/~ecprice/wordlist.10000\")\n",
    "    return resp.text.split(\"\\n\")\n",
    "\n",
    "\n",
    "# Call it and assign the resulting list to a variable!\n",
    "\n",
    "little_dictionary = get_english_words_list()\n",
    "\n",
    "# Then, write a function to look up for words in a book, returning a list of the words that were found."
   ]
  },
  {
   "cell_type": "code",
   "execution_count": null,
   "id": "TfkQszvJK0VT",
   "metadata": {
    "id": "TfkQszvJK0VT"
   },
   "outputs": [],
   "source": [
    "random_book = book_generator(alphabet,n_characters_each_book,n_letters)"
   ]
  },
  {
   "cell_type": "code",
   "execution_count": null,
   "id": "NiC6WmWCH1Fk",
   "metadata": {
    "id": "NiC6WmWCH1Fk"
   },
   "outputs": [],
   "source": [
    "found_word = []\n",
    "for word_in_dict in (little_dictionary):\n",
    "  if random_book.find(str(word_in_dict)) != -1: #se l'output del metodo find è diverso da -1 vuol dire che è stata trovata la parola testa in questa iterazione\n",
    "    found_word.append(word_in_dict)"
   ]
  },
  {
   "cell_type": "code",
   "execution_count": null,
   "id": "elJWOcaQQV7F",
   "metadata": {
    "colab": {
     "base_uri": "https://localhost:8080/"
    },
    "id": "elJWOcaQQV7F",
    "outputId": "b3802f0e-e6cf-4983-de7b-a32b96ec4f84"
   },
   "outputs": [],
   "source": [
    "n_found_word = len(found_word)\n",
    "# LP: I do not understand why the list here and indexing later\n",
    "ratio = [round(n_found_word/n_characters_each_book,4)]\n",
    "\n",
    "print(f\"there are {n_found_word} meaningful word inside the random book \\n{ratio[0]*100}% of all words present inside the random book \")"
   ]
  },
  {
   "cell_type": "code",
   "execution_count": null,
   "id": "DupVCJuDIUVW",
   "metadata": {
    "id": "DupVCJuDIUVW"
   },
   "outputs": [],
   "source": [
    "def word_searcher(target_words,text):\n",
    "  \"\"\" Cerca delle parole in un testo\n",
    "  target_words = lista di parole da cercare\n",
    "  text = testo in cui cercare le parole\n",
    "  \"\"\"\n",
    "  found_word = []\n",
    "  for word_in_dict in (target_words):\n",
    "    if text.find(str(word_in_dict)) != -1:\n",
    "      found_word.append(word_in_dict)\n",
    "\n",
    "  return found_word\n"
   ]
  },
  {
   "cell_type": "code",
   "execution_count": null,
   "id": "d4d2b0b5-5f72-45bd-af02-07d13946f80b",
   "metadata": {
    "colab": {
     "base_uri": "https://localhost:8080/"
    },
    "id": "8J4vJbm_PZNr",
    "outputId": "51124e14-35b8-49e3-b665-16a4e674db89"
   },
   "outputs": [],
   "source": [
    "found_word = word_searcher(little_dictionary,random_book)\n",
    "\n",
    "found_word"
   ]
  },
  {
   "cell_type": "markdown",
   "id": "76e100c3",
   "metadata": {
    "id": "76e100c3"
   },
   "source": [
    "#### Exercise 0.4\n",
    "\n",
    "Use the `%%timeit` special command to measure how long does it take to check for words in a book. How much time would you need to check the whole library?"
   ]
  },
  {
   "cell_type": "code",
   "execution_count": null,
   "id": "29015f29",
   "metadata": {
    "colab": {
     "base_uri": "https://localhost:8080/"
    },
    "id": "29015f29",
    "outputId": "4c883eda-d01a-4cbf-9724-68e42759025b"
   },
   "outputs": [],
   "source": [
    "%%timeit\n",
    "word_searcher(little_dictionary,random_book)\n",
    "\n",
    "#5.8s per cercare un libro\n"
   ]
  },
  {
   "cell_type": "code",
   "execution_count": null,
   "id": "XYlejVY1IhUY",
   "metadata": {
    "id": "XYlejVY1IhUY"
   },
   "outputs": [],
   "source": [
    "second_in_day = 60*60*24\n",
    "days_singleBook = 10.6/second_in_day #giorni per cercare un singolo libro\n"
   ]
  },
  {
   "cell_type": "code",
   "execution_count": null,
   "id": "3P8h0H6vM_TQ",
   "metadata": {
    "colab": {
     "base_uri": "https://localhost:8080/",
     "height": 200
    },
    "id": "3P8h0H6vM_TQ",
    "outputId": "4ecdbbb9-4798-4577-c52a-74a1a732e632"
   },
   "outputs": [],
   "source": [
    "time_whole_lib = days_singleBook * total_combinations\n",
    "\n",
    "#time_whole_lib  #troppo grande per printare"
   ]
  },
  {
   "cell_type": "markdown",
   "id": "b525f519",
   "metadata": {
    "id": "b525f519"
   },
   "source": [
    "## 1. Spotted UniTn"
   ]
  },
  {
   "cell_type": "markdown",
   "id": "db12042e",
   "metadata": {
    "id": "db12042e"
   },
   "source": [
    "In this exercise, we'll be doing some stats on a dataset of all the people employed at UniTn scraped from the UniTn website.\n",
    "\n",
    "**Note**: We have not learned yet how to use arrays, matrices, and dataframes. Some of the analysis in this exercise will inevitabily look a bit cumbersome, because they are - with the tools we have now. They'll become a piece of cake with `pandas`!"
   ]
  },
  {
   "cell_type": "code",
   "execution_count": null,
   "id": "56ff6ba0",
   "metadata": {
    "id": "56ff6ba0"
   },
   "outputs": [],
   "source": [
    "import json\n",
    "import requests\n",
    "\n",
    "\n",
    "def get_unitn_hr_dataset():\n",
    "    \"\"\"Download all data about UniTn employees from their website.\n",
    "\n",
    "    !!!Note: all information we are using here is made openly available from\n",
    "    the university. However, please do appreciate the power of similar data\n",
    "    scraping through any of the online platforms we're giving our data to,\n",
    "    were there some security holes!\n",
    "    This is no endorsment toward trying anything like that yourself, hacking\n",
    "    is bad. No seriously, it is. Also, copyright is good.\n",
    "\n",
    "    Returns:\n",
    "\n",
    "        list : A list of uni employees.\n",
    "\n",
    "    \"\"\"\n",
    "\n",
    "    # This string contains the address at which we'll find the dataset:\n",
    "    UNITN_PEOPLE_URL = \"https://dati.unitn.it/du/Person/en\"\n",
    "\n",
    "    # Get page response:\n",
    "    response = requests.get(UNITN_PEOPLE_URL)\n",
    "\n",
    "    # Parse a json from the page:\n",
    "    json_data = json.loads(response.text)\n",
    "\n",
    "    # Get actual data and return:\n",
    "    return json_data[\"value\"][\"data\"]"
   ]
  },
  {
   "cell_type": "code",
   "execution_count": null,
   "id": "ae543d19",
   "metadata": {
    "colab": {
     "base_uri": "https://localhost:8080/"
    },
    "id": "ae543d19",
    "outputId": "126341cf-be28-42cb-b60a-0bc98963e7a0"
   },
   "outputs": [],
   "source": [
    "info_UniTN = get_unitn_hr_dataset()\n",
    "type(info_UniTN)"
   ]
  },
  {
   "cell_type": "code",
   "execution_count": null,
   "id": "kSvmMJq6WiQn",
   "metadata": {
    "id": "kSvmMJq6WiQn"
   },
   "outputs": [],
   "source": [
    "#for element in info_UniTN:\n",
    "#  print(element)"
   ]
  },
  {
   "cell_type": "markdown",
   "id": "669c931b",
   "metadata": {
    "id": "669c931b"
   },
   "source": [
    "#### Exercise 1.0\n",
    "\n",
    "Call the function and try to have a look at the result. How many people are employed at the university? How many at each department? Which is the deparment with the most professors?\n",
    "\n",
    "Make a nice `print` of all those results! (You'll see a lot of different departments. You can filter results for the ones with at least 10 people)\n",
    "\n",
    "- If people have multiple affiliations, count them in each one of them. Eg, if someone is listed under both  `\"Center for Mind/Brain Sciences - CIMeC\"` and `\"CeRiN - Center for Neurocognitive Rehabilitation\"`, put the person in the count for both departments.\n",
    "- If a person is listed with two different roles at the same department (e.g., as both `\"Graduate student\"` and `\"Research intern\"`) count that person only once for that department."
   ]
  },
  {
   "cell_type": "code",
   "execution_count": null,
   "id": "60e39898",
   "metadata": {
    "colab": {
     "base_uri": "https://localhost:8080/"
    },
    "id": "60e39898",
    "outputId": "e991cd18-ce53-454b-d109-c8c6f32d2369"
   },
   "outputs": [],
   "source": [
    "employed_uni = len(info_UniTN)\n",
    "print(f\"The University of Trento has {employed_uni} employees\")"
   ]
  },
  {
   "cell_type": "code",
   "execution_count": null,
   "id": "YH90d6CZmxO8",
   "metadata": {
    "id": "YH90d6CZmxO8"
   },
   "outputs": [],
   "source": [
    "all_departments = list()\n",
    "employee_ID = list()\n",
    "multiple_role = list()\n",
    "\n",
    "for idx in range(employed_uni):\n",
    "\n",
    "  how_many_dep = 1  #Default value\n",
    "\n",
    "  if len(info_UniTN[idx]['position']) == 1 :  #Singola affiliazione ad un solo dipartimento\n",
    "    # LP\n",
    "    # LP: foo variable name should be used ONLY fore demos! use reasonable variable names in code!!!\n",
    "    foo = info_UniTN[idx]['position'][0]['unitName']\n",
    "\n",
    "  else:    #Vuol dire che una persona ha multiple affiliazioni\n",
    "    how_many_dep = len(info_UniTN[idx]['position'])\n",
    "    foo =  [multiple_dep['unitName'] for multiple_dep in info_UniTN[idx]['position']]\n",
    "    roles =  [multiple_roles['role'] for multiple_roles in info_UniTN[idx]['position']]\n",
    "\n",
    "    if len(foo) != len(set(foo)): #Se ci sono dei duplicati nei dipartimenti di affiliaizone, rimuovi i duplicati\n",
    "      foo = list(set(foo))\n",
    "      how_many_dep = len(foo)\n",
    "\n",
    "  if how_many_dep > 1:\n",
    "    for iter in range(how_many_dep):\n",
    "      all_departments.append(foo[iter])  #appendo alla lista tutti i dipartimenti di un dipendente con multiple affiliazioni\n",
    "  else:\n",
    "    foo = str(foo)  #converti ad una stringa\n",
    "    all_departments.append(foo)\n"
   ]
  },
  {
   "cell_type": "code",
   "execution_count": null,
   "id": "iHJZF2TfPSAp",
   "metadata": {
    "colab": {
     "base_uri": "https://localhost:8080/"
    },
    "id": "iHJZF2TfPSAp",
    "outputId": "ea30f73a-da7b-438b-c457-3a41e3969f03"
   },
   "outputs": [],
   "source": [
    "all_departments_dict = {} #Dizionario con tutti i dipartimenti e il corrispettivo numero di dipendenti\n",
    "\n",
    "for dep in all_departments:\n",
    "    #dep_test = dep\n",
    "    if dep in all_departments_dict:\n",
    "        all_departments_dict[dep] += 1\n",
    "    else:\n",
    "        all_departments_dict[dep] = 1\n",
    "\n",
    "all_departments_dict"
   ]
  },
  {
   "cell_type": "code",
   "execution_count": null,
   "id": "1MxtP1mSQRQH",
   "metadata": {
    "colab": {
     "base_uri": "https://localhost:8080/"
    },
    "id": "1MxtP1mSQRQH",
    "outputId": "fc6df86e-e1d8-4fa3-f451-32c2fe02ff10"
   },
   "outputs": [],
   "source": [
    "bigger_deparments = dict()\n",
    "SIZE_DEP = 10\n",
    "for key, value in all_departments_dict.items():\n",
    "  if value >= SIZE_DEP:\n",
    "    bigger_deparments[key] = value\n",
    "\n",
    "bigger_deparments"
   ]
  },
  {
   "cell_type": "markdown",
   "id": "db624bbe",
   "metadata": {
    "id": "db624bbe"
   },
   "source": [
    "#### Exercise 1.1\n",
    "\n",
    "Imagine you want to call-bomb the `\"Department of Economics and Management\"` for a prank. You'll first need a list of all the phone numbers you can find in that department. Create that list!"
   ]
  },
  {
   "cell_type": "code",
   "execution_count": null,
   "id": "2f560dd1",
   "metadata": {
    "colab": {
     "base_uri": "https://localhost:8080/"
    },
    "id": "2f560dd1",
    "outputId": "780ab72b-c898-4953-c64f-cb5e4dd4dd3b"
   },
   "outputs": [],
   "source": [
    "# LP: Now that's a proper variable name :)\n",
    "filthy_economists_number = []\n",
    "\n",
    "# LP: reasonable it does not match, here you are not dropping duplicate affiliations to the same department\n",
    "for element in range(len(info_UniTN)):\n",
    "    foo =  [multiple_dep['unitName'] for multiple_dep in info_UniTN[element]['position']] #Prendi tutti i dipartimenti in cui compare una pesona\n",
    "    if \"Department of Economics and Management\" in foo:  #se tra questi c'è Economia, allora salviamo il numero per lo scherzone\n",
    "      filthy_economists_number.append(info_UniTN[element]['phone'])\n",
    "\n",
    "len(filthy_economists_number) #Non matcha con il valore che ottengo in bigger departments, c'è un errore da qualche parte..."
   ]
  },
  {
   "cell_type": "markdown",
   "id": "759cf40d",
   "metadata": {
    "id": "759cf40d"
   },
   "source": [
    "#### Exercise 1.2\n",
    "\n"
   ]
  },
  {
   "cell_type": "markdown",
   "id": "999a6f38",
   "metadata": {
    "id": "999a6f38"
   },
   "source": [
    "Use the function below to get a dictionary of Italian names divided by gender.\n",
    "\n",
    "Then, print out the gender ratio (how many women, how many men) for all the position roles that you can find in the dataset (filter out positions with less then 10 people). Then, jump to conclusions!\n",
    "\n",
    "- If a person has multiple roles count them for each of the roles they have\n",
    "- Yes, it can be erroneous to infer gender just from the name; here we assume potential errors will average out in the large numbers.\n",
    "- Yes, this will consider only Italian employees. You can print out how many names were left out (and which ones), and if you want try and improve the function by including international names in the list as well!"
   ]
  },
  {
   "cell_type": "code",
   "execution_count": null,
   "id": "cf71c38b",
   "metadata": {
    "id": "cf71c38b"
   },
   "outputs": [],
   "source": [
    "import requests\n",
    "\n",
    "\n",
    "def get_names():\n",
    "    \"\"\"Download a list of italian names, divided by gender.\n",
    "\n",
    "    Returns:\n",
    "\n",
    "        dict : A dictionary of masculine and feminine names.\n",
    "\n",
    "    \"\"\"\n",
    "\n",
    "    # This string contains the address at which we'll find the names:\n",
    "    FIRST_NAMES_URL = \"https://gist.githubusercontent.com/metalelf0/a2ab283d0d5fd9b4b8a10d6427630627/raw/b848ffee70464fd39714a1a621f3a2eba6c3812e/italian_names.md\"\n",
    "\n",
    "    # Get page response:\n",
    "    response = requests.get(FIRST_NAMES_URL)\n",
    "\n",
    "    # read the response as string:\n",
    "    raw_content = response.text\n",
    "\n",
    "    # split lines and exclude fir header (# Male names):\n",
    "    full_names_list = raw_content.split(\"\\n\")[1:]\n",
    "\n",
    "    # Look for the header \"# Female names\":\n",
    "    female_header_idx = full_names_list.index(\"# Female names\")\n",
    "\n",
    "    # Names before header are male, after are female:\n",
    "    return dict(\n",
    "        male=full_names_list[:female_header_idx],\n",
    "        female=full_names_list[female_header_idx + 1 :],\n",
    "    )"
   ]
  },
  {
   "cell_type": "code",
   "execution_count": null,
   "id": "7mji_2lgYMUd",
   "metadata": {
    "id": "7mji_2lgYMUd"
   },
   "outputs": [],
   "source": [
    "names_ita = get_names()\n"
   ]
  },
  {
   "cell_type": "code",
   "execution_count": null,
   "id": "46-1whtZYY3e",
   "metadata": {
    "colab": {
     "base_uri": "https://localhost:8080/"
    },
    "id": "46-1whtZYY3e",
    "outputId": "9f3c6fdb-acac-460b-f6fd-451c2ef9874d"
   },
   "outputs": [],
   "source": [
    "name_list = list()\n",
    "role_list = list()\n",
    "\n",
    "for element in range(len(info_UniTN)):\n",
    "\n",
    "  single_name = info_UniTN[element]['name']\n",
    "\n",
    "  single_role =  list([multiple_roles['role'] for multiple_roles in info_UniTN[element]['position']])\n",
    "\n",
    "  how_many_roles = len(single_role)\n",
    "\n",
    "  if how_many_roles == 1:\n",
    "    name_list.append(single_name)\n",
    "    role_list.append(single_role[0])\n",
    "  elif how_many_roles > 1: #persona con multipli ruoli\n",
    "    for kk in range(how_many_roles):\n",
    "      #print(single_role)\n",
    "      role_list.append(single_role[kk]) #Appendi tutti i diversi ruoli presenti in single_role\n",
    "      name_list.append(single_name)   #Appendi lo stesso nome kk volte, quindi se \"Marco\" ha 5 ruoli, verrà appeso \"Marco\" 5 volte\n",
    "\n",
    "print(len(role_list))\n",
    "print(len(name_list))\n"
   ]
  },
  {
   "cell_type": "code",
   "execution_count": null,
   "id": "ZsXQdGJ8M_id",
   "metadata": {
    "id": "ZsXQdGJ8M_id"
   },
   "outputs": [],
   "source": [
    "dict_names_temp = {}  #Dizionario con ruoli come key e nomi come value, però per tutti i ruoli\n",
    "\n",
    "# LP: variable names, this one is important! iter is one of the reserved Python strings,\n",
    "# should never be used as variable.\n",
    "#\n",
    "# Also, a cleaner loop would have been:\n",
    "#\n",
    "# for this_role, this_name in zip(role_list, name_list):\n",
    "#     ...\n",
    "\n",
    "for iter in range(len(role_list)):\n",
    "    this_role = str(role_list[iter])\n",
    "    this_name = str(name_list[iter])\n",
    "    if this_role in dict_names_temp:\n",
    "        dict_names_temp[this_role].append(this_name)\n",
    "    else:\n",
    "        dict_names_temp[this_role] = [this_name]\n"
   ]
  },
  {
   "cell_type": "code",
   "execution_count": null,
   "id": "d82bOI4eVTHc",
   "metadata": {
    "colab": {
     "base_uri": "https://localhost:8080/"
    },
    "id": "d82bOI4eVTHc",
    "outputId": "e33a1c63-3bb0-4878-8bc1-18d5b8c5460c"
   },
   "outputs": [],
   "source": [
    "key_to_keep = list() #Trovare ruoli con più di 10 persone\n",
    "counter = list()\n",
    "count_dict = {}\n",
    "\n",
    "for key in dict_names_temp:\n",
    "  counter = len(dict_names_temp[key])\n",
    "  if counter > 10:  # magic number! Remember to define before\n",
    "    count_dict[key]=counter  #Dizionario con il conteggio di persone per ogni ruolo\n",
    "    if key not in key_to_keep:\n",
    "        key_to_keep.append((key))\n",
    "\n",
    "print(key_to_keep)\n",
    "(count_dict) #Numero di persone per ruoli con almeno 10 persone\n"
   ]
  },
  {
   "cell_type": "code",
   "execution_count": null,
   "id": "Fc6p1zJIaroM",
   "metadata": {
    "id": "Fc6p1zJIaroM"
   },
   "outputs": [],
   "source": [
    "#Final dizionario con ruoli come key e nomi come value, solo per ruoli con più di 10 persone\n",
    "\n",
    "dict_names = {key: dict_names_temp[key] for key in key_to_keep}"
   ]
  },
  {
   "cell_type": "code",
   "execution_count": null,
   "id": "paelg0_pl_G-",
   "metadata": {
    "id": "paelg0_pl_G-"
   },
   "outputs": [],
   "source": [
    "fem = {}\n",
    "gender = {}\n",
    "male = {}\n",
    "foreign = {}\n",
    "\n",
    "for key in key_to_keep: #Creare un dizionario con solo le key dei ruoli con almeno 10 persone, più gli altri 3 dizionario che mi serviranno nel blocco di codice dopo\n",
    "  gender[key] = []\n",
    "  fem[key] = []\n",
    "  male[key] = []\n",
    "  foreign[key] = []\n",
    "\n",
    "for key,names in dict_names.items():\n",
    "  for iter in range(len(names)):\n",
    "\n",
    "    this_name = names[iter]\n",
    "    if this_name in names_ita['male']: #Se il nome è maschile, \"male\"\n",
    "      gender[key].append('male')\n",
    "\n",
    "    elif this_name in names_ita['female']: #Se il nome è femminile, \"female\"\n",
    "      gender[key].append('female')\n",
    "\n",
    "    else:     #Se il nome non rientra nel dict names_ita, allora probabilmente è straniero, \"foreign\"\n",
    "      gender[key].append('foreign')\n"
   ]
  },
  {
   "cell_type": "code",
   "execution_count": null,
   "id": "XUZ7-AT2Fu-h",
   "metadata": {
    "colab": {
     "base_uri": "https://localhost:8080/"
    },
    "id": "XUZ7-AT2Fu-h",
    "outputId": "27a5181a-4bd3-4c92-a6e3-b18dca1f8760"
   },
   "outputs": [],
   "source": [
    "role_gender_percent_onlyIta = {}\n",
    "role_gender_alsoForeign = {}\n",
    "\n",
    "for key,value in gender.items():\n",
    "  total_ita = ()\n",
    "  total_all = ()\n",
    "  fem[key] = gender[key].count('female')\n",
    "  male[key] = gender[key].count('male')\n",
    "  foreign[key] = gender[key].count('foreign')\n",
    "\n",
    "  total_ita = fem[key] + male[key]\n",
    "  total_all = fem[key] + male[key] + foreign[key]\n",
    "\n",
    "  #Only Ita\n",
    "  fem_percent = round((fem[key]/total_ita)*100,1)\n",
    "  male_percent = round((male[key]/total_ita)*100,1)\n",
    "\n",
    "  #Foreign\n",
    "  ita_percent = round((total_ita/total_all)*100,1)\n",
    "  foreign_percent = round((foreign[key]/total_all)*100,1)\n",
    "\n",
    "  role_gender_percent_onlyIta[key] = {\"% female \": fem_percent, \"male\":male_percent}\n",
    "  role_gender_alsoForeign[key] = {\"% italians \": ita_percent, \"foreign\":foreign_percent }\n",
    "\n",
    "\n",
    "role_gender_percent_onlyIta"
   ]
  },
  {
   "cell_type": "code",
   "execution_count": null,
   "id": "n22l7dA9MYoz",
   "metadata": {
    "colab": {
     "base_uri": "https://localhost:8080/"
    },
    "id": "n22l7dA9MYoz",
    "outputId": "04771131-1e95-41c2-cd04-f54203973e58"
   },
   "outputs": [],
   "source": [
    "role_gender_alsoForeign"
   ]
  },
  {
   "cell_type": "markdown",
   "id": "d7b0a566",
   "metadata": {
    "id": "d7b0a566"
   },
   "source": [
    "## 2. A Class `class`\n",
    "\n",
    "Here you will implement classes to represent students and a classroom. I give lists of possible attributes and methods that you can define on them, but feel free to interpret the instructions, or ignore them and add other methods and attributes of your making if you wish!\n",
    "\n",
    "To generate fake people, feel free to use either combinations of the above function and `random`,  or [the `faker` library](https://faker.readthedocs.io/en/master/) (funny library to know about! To install it, write in a cell of the notebook `!pip install Faker` and run it)"
   ]
  },
  {
   "cell_type": "code",
   "execution_count": null,
   "id": "cMMaqdxWSqAA",
   "metadata": {
    "colab": {
     "base_uri": "https://localhost:8080/"
    },
    "id": "cMMaqdxWSqAA",
    "outputId": "0f6c880f-fe62-43d4-f7e9-d11c66aba545"
   },
   "outputs": [],
   "source": [
    "!pip install Faker"
   ]
  },
  {
   "cell_type": "markdown",
   "id": "4b020509",
   "metadata": {
    "id": "4b020509"
   },
   "source": [
    "#### Exercise 2.0\n",
    "\n",
    "Define the class `Student` to represent a student. It may contain something along the following:\n",
    "\n",
    "Attributes:\n",
    "- a `name`\n",
    "- a `phone_number`\n",
    "- a `knowledge_score` in some range\n",
    "\n",
    "Methods:\n",
    "- a `learn` method that takes as input a number of hours and increases the `knowledge_score`.\n",
    "- a `undertake_exam` method that generates a test score in some range proportionally to the `knowledge_score` plus a random effect that you can incorporate with the `random` library\n",
    "\n",
    "Bonus:\n",
    "- implement the `__eq__()` special method to return `True` if two students have the same name and phone number\n",
    "- implement the `__repr__()` special method to show nicely info on the student when the variable is shown\n",
    "\n",
    "Implement the class with its docstrings, and write some code cells to show that it behaves properly.\n"
   ]
  },
  {
   "cell_type": "code",
   "execution_count": null,
   "id": "z5dX2CSoHm5B",
   "metadata": {
    "id": "z5dX2CSoHm5B"
   },
   "outputs": [],
   "source": [
    "from faker import Faker\n",
    "import random\n",
    "fake = Faker()\n",
    "\n",
    "#fake.name()"
   ]
  },
  {
   "cell_type": "code",
   "execution_count": null,
   "id": "3485f682",
   "metadata": {
    "id": "3485f682"
   },
   "outputs": [],
   "source": [
    "# LP: Neat class! One of the cleanest I've seen!\n",
    "\n",
    "class Student:\n",
    "    \"\"\" Class to represent a student \"\"\"\n",
    "\n",
    "    #Base Attributes\n",
    "    def __init__(self):\n",
    "      self.name = fake.name()\n",
    "      self.phone_number = fake.phone_number()\n",
    "      self.knowledge_score = round(random.uniform(0,10),2) #10 come massimo Punteggio di partenza, devi comunque studiare per passare l'esame, anche se hai buone basi\n",
    "\n",
    "    #Learn method\n",
    "    def learn(self,number_hours):\n",
    "      attention = round(random.uniform(0.8,1.2),2)   #Random factor per cambiare leggermente il risultato dell'apprendimento in base a quanta \"attenzione\" è stata usata\n",
    "      self.number_hours = number_hours\n",
    "      self.knowledge_score = self.knowledge_score + ((self.number_hours/5)*attention)\n",
    "      return f\"knowledge ={self.knowledge_score }\"\n",
    "\n",
    "    #Undertake exam method\n",
    "    def undertake_exam(self):\n",
    "      self.butt_factor =  round(random.uniform(0.8,1.5),2)    #Bias verso fortuna (>1) piuttosto che sfortuna (<1)\n",
    "      self.test_score = round(self.knowledge_score * self.butt_factor, 0)\n",
    "      \n",
    "      # This also counts as magic number! better to define it somewhere (check out \"class attributes\" for those cases!)\n",
    "      if self.test_score > 31:                 #Il punteggio massimo ottenibile è 30 e lode (31)\n",
    "        self.test_score = 31\n",
    "      return f\"test score={self.test_score} , butt factor={self.butt_factor}\"\n",
    "\n",
    "    #Equal attributes between Student\n",
    "    # LP\n",
    "    # LP : Attention! Make sure you implement also the case of other not being a Student obj!\n",
    "    def __eq__(self, other):\n",
    "      return (self.name == other.name) & (self.phone_number == other.phone_number)\n",
    "\n",
    "    #Nice representation\n",
    "    def __repr__(self):\n",
    "      return f\"name:'{self.name}', phone number:'{self.phone_number}', starting knowledge score:'{self.knowledge_score}')\"\n",
    "\n"
   ]
  },
  {
   "cell_type": "code",
   "execution_count": null,
   "id": "9Eroa2rFLtO1",
   "metadata": {
    "colab": {
     "base_uri": "https://localhost:8080/"
    },
    "id": "9Eroa2rFLtO1",
    "outputId": "579cf38e-e161-4456-ea8d-9d3140014cf5"
   },
   "outputs": [],
   "source": [
    "random_student = Student()\n",
    "\n",
    "hours_of_study = random.randint(1,100)\n",
    "random_student.learn(hours_of_study)\n",
    "random_student.undertake_exam()\n",
    "\n",
    "print(f\"The name of this student is: {random_student.name}\")\n",
    "print(f\"His/Her phone number is: {random_student.phone_number}\")\n",
    "print(f\"His/Her knowledge score is: {random_student.knowledge_score}\")\n",
    "print(f\"His/Her studied for: {random_student.number_hours} hours, and reached a knowledge score of {random_student.knowledge_score} \")\n",
    "print(f\"The final score is: {random_student.test_score}, given the butt factor of {random_student.butt_factor}\")\n"
   ]
  },
  {
   "cell_type": "code",
   "execution_count": null,
   "id": "TY5iWX2OOIWk",
   "metadata": {
    "colab": {
     "base_uri": "https://localhost:8080/",
     "height": 380
    },
    "id": "TY5iWX2OOIWk",
    "outputId": "93f5b12e-76fa-4f0b-f4fb-faaff19b110a"
   },
   "outputs": [],
   "source": [
    "#Moltooo improbabile ottenere randomicamente due studenti con stesso nome e numero\n",
    "\n",
    "# LP: true, unless you seed the random generator :=)\n",
    "# all serious packages doing random generation should let you do it somehow!\n",
    "\n",
    "counter = 0\n",
    "while True:\n",
    "  Faker.seed(42)\n",
    "  student_1 = Student()\n",
    "  Faker.seed(42)\n",
    "  student_2 = Student()\n",
    "\n",
    "  matching_student = student_1.__eq__(student_2)\n",
    "\n",
    "  if matching_student == 1:\n",
    "    break\n",
    "  counter += 1\n",
    "  #print(counter)\n"
   ]
  },
  {
   "cell_type": "code",
   "execution_count": null,
   "id": "52Y9R-gZMlDs",
   "metadata": {
    "colab": {
     "base_uri": "https://localhost:8080/",
     "height": 36
    },
    "id": "52Y9R-gZMlDs",
    "outputId": "95a72cd0-aff1-4371-9b04-f608a6f21ecd"
   },
   "outputs": [],
   "source": [
    "student_3 = Student()\n",
    "\n",
    "student_3.__repr__()"
   ]
  },
  {
   "cell_type": "markdown",
   "id": "daaa8a69",
   "metadata": {
    "id": "daaa8a69"
   },
   "source": [
    "#### Exercise 2.1\n",
    "\n",
    "Define the class `Class`, that represents a classroom of students, document it and show how it can be used. It may contain something along the following:\n",
    "\n",
    "Attributes:\n",
    "\n",
    " - a list of students (use the `Student` object!)\n",
    " - a lectures counter\n",
    " - an exam logbook with all the exams taken; use the format that you find most suitable, but think about a reasonable and accessible way to keep track of all grades from all students\n",
    "\n",
    "Methods:\n",
    " - a method to add a new student to the class\n",
    " - a lecture method that increases the knowledge score of students (using the `Student` class methods)\n",
    " - a do test method that gets scores for a test for the whole classroom and store it in the log book (using the `Student` class methods)\n",
    "\n",
    "Bonus:\n",
    "- implement the `__eq__()` special method to return `True` if all students have the same names\n",
    "- implement the `__getitem__()` special method to get individual students from the classroom with the square brackets indexing\n",
    "- implement the `__repr__()` special method to show nicely info on the class\n",
    "\n",
    "\n",
    "Implement the class with its docstrings, and write some code cells to call the various methods and to show that it behaves properly."
   ]
  },
  {
   "cell_type": "code",
   "execution_count": null,
   "id": "tl08H-468PAO",
   "metadata": {
    "id": "tl08H-468PAO"
   },
   "outputs": [],
   "source": [
    "subjects = [\"Biology\", \"Coding\", \"English\", \"Philosophy\", \"Math\", \"History\",\"Physics\" ]\n",
    "\n",
    "class Class:\n",
    "    \"\"\" A classy class \"\"\"\n",
    "\n",
    "    def __init__(self, N_students, N_weekly_lesson_subject, week_of_school , subjects):\n",
    "\n",
    "      # LP: Tip for coding life: any sort of comment style apart from the bare minimum conventions\n",
    "      # should be avoided (it tends to age poorly, it is difficoult to maintain consistent, etc.)\n",
    "        \n",
    "      #=== Input information ===#\n",
    "      self.N_students = N_students\n",
    "      self.N_weekly_lesson_subject = N_weekly_lesson_subject\n",
    "      self.week_of_school = week_of_school\n",
    "      self.subjects = subjects\n",
    "      #==========================\n",
    "\n",
    "      N_subjects = len(subjects)\n",
    "\n",
    "      self.lectures_each_subject = N_weekly_lesson_subject * week_of_school  #Numbero di lezioni per ogni materia, in tutto l'anno accademico\n",
    "      self.total_lectures_counter = self.lectures_each_subject * N_subjects   #Numero totale di lezioni\n",
    "\n",
    "      #Genera lista di studenti della classe\n",
    "      self.list_of_students = []\n",
    "      self.list_of_names = []\n",
    "      for stu in range(N_students):\n",
    "        single_stu = Student()  #Classe student create nell'esercizio prima\n",
    "        single_stu_name = single_stu.name\n",
    "        self.list_of_students.append(single_stu)\n",
    "        self.list_of_names.append(single_stu_name)\n",
    "\n",
    "      #Esami\n",
    "      self.exams_singleStu = {} #Dizionario Esami per un singolo studente, Key = Materia\n",
    "      self.logbook_allClass = {} #Dizionario Esami di tutti gli studenti, Key = Nome studente\n",
    "\n",
    "      for test in range(N_subjects):\n",
    "\n",
    "        which_subject = subjects[test]\n",
    "        \n",
    "        self.exams_singleStu[which_subject] = []\n",
    "\n",
    "        for single_stu in self.list_of_students:\n",
    "          self.logbook_allClass[single_stu.name] = self.exams_singleStu.copy()\n",
    "\n",
    "    #=== METHODS ===#\n",
    "\n",
    "    # Add new student\n",
    "    def add_student(self,new_student):\n",
    "      self.new_student = new_student\n",
    "      self.list_of_students.append(new_student)\n",
    "\n",
    "    #Increase Knowledge\n",
    "    def increase_knowledge(self):\n",
    "\n",
    "      # LP: \n",
    "      # LP: If those keep numbers referred to individual students, why not make them dicts?\n",
    "      pre_study = list()\n",
    "      after_study = list()\n",
    "\n",
    "      for single_stu in self.list_of_students:\n",
    "\n",
    "        pre_study.append(single_stu.knowledge_score) #Score pre increase_knowledge of a single student\n",
    "        single_stu.learn(self.lectures_each_subject)\n",
    "        after_study.append(single_stu.knowledge_score) #Score after increase_knowledge of a single student\n",
    "\n",
    "        #print(f\"knowledge of {single_stu.name} started at {pre_study[-1]} and arrived ad {after_study[-1]}\")\n",
    "\n",
    "      self.pre_study = pre_study  #lista di tutti i valori pre study\n",
    "      self.after_study = after_study  #lista di valori after study\n",
    "      self.how_much_learned = [after - pre for after, pre in zip(after_study, pre_study)] #quanto è stato efficace lo studio?\n",
    "\n",
    "    # Do test\n",
    "    def do_test(self, which_subject):\n",
    "\n",
    "      if which_subject not in self.subjects:\n",
    "        print(\"The inserted subject is not among those studied in this school, put a new subject \")\n",
    "        return\n",
    "\n",
    "      self.students_grades = [] #Lista per i voti ottenuti nell'esame\n",
    "\n",
    "      s_key = 'Norma Fisher'# list(self.logbook_allClass.keys())[-1]\n",
    "      \n",
    "      for single_stu in self.list_of_students:\n",
    "        self.students_grades.append(single_stu.undertake_exam())\n",
    "        \n",
    "        for key in self.exams_singleStu.keys():\n",
    "          if which_subject in key:\n",
    "            #self.backup = self.exams_singleStu.copy()\n",
    "\n",
    "            # LP: again, no foos around!\n",
    "            # LP:: here is the issue: in self.exams_singleStu the value for the previous \n",
    "            # exam remains the result of the last student, and gets overwritten the next iteration\n",
    "            foo =  self.exams_singleStu.copy()\n",
    "            foo[key] = self.students_grades[-1]\n",
    "            \n",
    "            \n",
    "\n",
    "            self.exams_singleStu[key] = self.students_grades[-1]\n",
    "            \n",
    "            self.logbook_allClass[single_stu.name] =  foo\n",
    "\n"
   ]
  },
  {
   "cell_type": "code",
   "execution_count": null,
   "id": "zhhH0FdkZP1r",
   "metadata": {
    "colab": {
     "base_uri": "https://localhost:8080/"
    },
    "id": "zhhH0FdkZP1r",
    "outputId": "b107e5c7-9996-421a-91fe-b429ce1b2655"
   },
   "outputs": [],
   "source": [
    "new_student = Student()\n",
    "class_1.add_student(new_student)\n",
    "class_1.list_of_students"
   ]
  },
  {
   "cell_type": "code",
   "execution_count": null,
   "id": "Nq4eU6J7TIW1",
   "metadata": {
    "colab": {
     "base_uri": "https://localhost:8080/"
    },
    "id": "Nq4eU6J7TIW1",
    "outputId": "e6b988a6-638e-4f3f-e4f1-b9b29f3a6811"
   },
   "outputs": [],
   "source": [
    "class_1.increase_knowledge()\n",
    "print(f\"pre study scores: {class_1.pre_study}\")\n",
    "print(f\"after study scores: {class_1.after_study}\")\n",
    "print(f\"the study increased the knowledge score of : {class_1.how_much_learned}\")"
   ]
  },
  {
   "cell_type": "code",
   "execution_count": null,
   "id": "DkELjnurqT6f",
   "metadata": {
    "colab": {
     "base_uri": "https://localhost:8080/"
    },
    "id": "DkELjnurqT6f",
    "outputId": "98ad90e9-c3d1-4d5c-d9e6-7bf77ccac85c"
   },
   "outputs": [],
   "source": [
    "# LP: see comment in the class\n",
    "\n",
    "#C'è un bug da qualche parte. Nel momento in cui faccio un nuovo esame, quello appena fatto prima diventa uguale per tutti gli studenti\n",
    "#penso il metodo vada a prendere il punteggio dell'ultimo studente nella classe e lo sovrascrive a quelli originali degli altri studenti. Ho provato a risolvere il bug ma non ci riesco\n",
    "class_1.do_test(subjects[0])\n",
    "class_1.logbook_allClass\n"
   ]
  },
  {
   "cell_type": "code",
   "execution_count": null,
   "id": "6a3c691d-f148-4398-8453-e9715398de10",
   "metadata": {},
   "outputs": [],
   "source": [
    "class_1.do_test(subjects[1])\n",
    "class_1.logbook_allClass"
   ]
  },
  {
   "cell_type": "code",
   "execution_count": null,
   "id": "62edff83-cac3-4794-a54c-cbfb7ce12b51",
   "metadata": {},
   "outputs": [],
   "source": [
    "class_1.do_test(subjects[2])\n",
    "class_1.logbook_allClass"
   ]
  },
  {
   "cell_type": "code",
   "execution_count": null,
   "id": "a5f6a87d-393a-4fc8-907d-b829beb03e4b",
   "metadata": {},
   "outputs": [],
   "source": []
  },
  {
   "cell_type": "code",
   "execution_count": null,
   "id": "6aea6605-cabf-4df7-90f2-050e7fd7271a",
   "metadata": {},
   "outputs": [],
   "source": []
  },
  {
   "cell_type": "code",
   "execution_count": null,
   "id": "bcefc119-661b-4933-877d-36e8322ca1f4",
   "metadata": {},
   "outputs": [],
   "source": []
  }
 ],
 "metadata": {
  "colab": {
   "provenance": []
  },
  "kernelspec": {
   "display_name": "Python [conda env:course_env]",
   "language": "python",
   "name": "conda-env-course_env-py"
  },
  "language_info": {
   "codemirror_mode": {
    "name": "ipython",
    "version": 3
   },
   "file_extension": ".py",
   "mimetype": "text/x-python",
   "name": "python",
   "nbconvert_exporter": "python",
   "pygments_lexer": "ipython3",
   "version": "3.9.16"
  }
 },
 "nbformat": 4,
 "nbformat_minor": 5
}
